{
  "nbformat": 4,
  "nbformat_minor": 0,
  "metadata": {
    "colab": {
      "provenance": [],
      "authorship_tag": "ABX9TyNKN2xfG/mdYNRDKB1M4A67",
      "include_colab_link": true
    },
    "kernelspec": {
      "name": "python3",
      "display_name": "Python 3"
    },
    "language_info": {
      "name": "python"
    }
  },
  "cells": [
    {
      "cell_type": "markdown",
      "metadata": {
        "id": "view-in-github",
        "colab_type": "text"
      },
      "source": [
        "<a href=\"https://colab.research.google.com/github/Igggonzalez/Grupo-20/blob/main/BigData-UBA%2320.ipynb\" target=\"_parent\"><img src=\"https://colab.research.google.com/assets/colab-badge.svg\" alt=\"Open In Colab\"/></a>"
      ]
    },
    {
      "cell_type": "code",
      "source": [
        "from google.colab import files\n",
        "uploaded = files.upload()"
      ],
      "metadata": {
        "colab": {
          "base_uri": "https://localhost:8080/",
          "height": 73
        },
        "id": "9NVqVPNj0xKg",
        "outputId": "c6ac391f-59a2-4343-c656-e43a20ed83aa"
      },
      "execution_count": 50,
      "outputs": [
        {
          "output_type": "display_data",
          "data": {
            "text/plain": [
              "<IPython.core.display.HTML object>"
            ],
            "text/html": [
              "\n",
              "     <input type=\"file\" id=\"files-bb5d47b9-3393-4031-8932-098540585acb\" name=\"files[]\" multiple disabled\n",
              "        style=\"border:none\" />\n",
              "     <output id=\"result-bb5d47b9-3393-4031-8932-098540585acb\">\n",
              "      Upload widget is only available when the cell has been executed in the\n",
              "      current browser session. Please rerun this cell to enable.\n",
              "      </output>\n",
              "      <script>// Copyright 2017 Google LLC\n",
              "//\n",
              "// Licensed under the Apache License, Version 2.0 (the \"License\");\n",
              "// you may not use this file except in compliance with the License.\n",
              "// You may obtain a copy of the License at\n",
              "//\n",
              "//      http://www.apache.org/licenses/LICENSE-2.0\n",
              "//\n",
              "// Unless required by applicable law or agreed to in writing, software\n",
              "// distributed under the License is distributed on an \"AS IS\" BASIS,\n",
              "// WITHOUT WARRANTIES OR CONDITIONS OF ANY KIND, either express or implied.\n",
              "// See the License for the specific language governing permissions and\n",
              "// limitations under the License.\n",
              "\n",
              "/**\n",
              " * @fileoverview Helpers for google.colab Python module.\n",
              " */\n",
              "(function(scope) {\n",
              "function span(text, styleAttributes = {}) {\n",
              "  const element = document.createElement('span');\n",
              "  element.textContent = text;\n",
              "  for (const key of Object.keys(styleAttributes)) {\n",
              "    element.style[key] = styleAttributes[key];\n",
              "  }\n",
              "  return element;\n",
              "}\n",
              "\n",
              "// Max number of bytes which will be uploaded at a time.\n",
              "const MAX_PAYLOAD_SIZE = 100 * 1024;\n",
              "\n",
              "function _uploadFiles(inputId, outputId) {\n",
              "  const steps = uploadFilesStep(inputId, outputId);\n",
              "  const outputElement = document.getElementById(outputId);\n",
              "  // Cache steps on the outputElement to make it available for the next call\n",
              "  // to uploadFilesContinue from Python.\n",
              "  outputElement.steps = steps;\n",
              "\n",
              "  return _uploadFilesContinue(outputId);\n",
              "}\n",
              "\n",
              "// This is roughly an async generator (not supported in the browser yet),\n",
              "// where there are multiple asynchronous steps and the Python side is going\n",
              "// to poll for completion of each step.\n",
              "// This uses a Promise to block the python side on completion of each step,\n",
              "// then passes the result of the previous step as the input to the next step.\n",
              "function _uploadFilesContinue(outputId) {\n",
              "  const outputElement = document.getElementById(outputId);\n",
              "  const steps = outputElement.steps;\n",
              "\n",
              "  const next = steps.next(outputElement.lastPromiseValue);\n",
              "  return Promise.resolve(next.value.promise).then((value) => {\n",
              "    // Cache the last promise value to make it available to the next\n",
              "    // step of the generator.\n",
              "    outputElement.lastPromiseValue = value;\n",
              "    return next.value.response;\n",
              "  });\n",
              "}\n",
              "\n",
              "/**\n",
              " * Generator function which is called between each async step of the upload\n",
              " * process.\n",
              " * @param {string} inputId Element ID of the input file picker element.\n",
              " * @param {string} outputId Element ID of the output display.\n",
              " * @return {!Iterable<!Object>} Iterable of next steps.\n",
              " */\n",
              "function* uploadFilesStep(inputId, outputId) {\n",
              "  const inputElement = document.getElementById(inputId);\n",
              "  inputElement.disabled = false;\n",
              "\n",
              "  const outputElement = document.getElementById(outputId);\n",
              "  outputElement.innerHTML = '';\n",
              "\n",
              "  const pickedPromise = new Promise((resolve) => {\n",
              "    inputElement.addEventListener('change', (e) => {\n",
              "      resolve(e.target.files);\n",
              "    });\n",
              "  });\n",
              "\n",
              "  const cancel = document.createElement('button');\n",
              "  inputElement.parentElement.appendChild(cancel);\n",
              "  cancel.textContent = 'Cancel upload';\n",
              "  const cancelPromise = new Promise((resolve) => {\n",
              "    cancel.onclick = () => {\n",
              "      resolve(null);\n",
              "    };\n",
              "  });\n",
              "\n",
              "  // Wait for the user to pick the files.\n",
              "  const files = yield {\n",
              "    promise: Promise.race([pickedPromise, cancelPromise]),\n",
              "    response: {\n",
              "      action: 'starting',\n",
              "    }\n",
              "  };\n",
              "\n",
              "  cancel.remove();\n",
              "\n",
              "  // Disable the input element since further picks are not allowed.\n",
              "  inputElement.disabled = true;\n",
              "\n",
              "  if (!files) {\n",
              "    return {\n",
              "      response: {\n",
              "        action: 'complete',\n",
              "      }\n",
              "    };\n",
              "  }\n",
              "\n",
              "  for (const file of files) {\n",
              "    const li = document.createElement('li');\n",
              "    li.append(span(file.name, {fontWeight: 'bold'}));\n",
              "    li.append(span(\n",
              "        `(${file.type || 'n/a'}) - ${file.size} bytes, ` +\n",
              "        `last modified: ${\n",
              "            file.lastModifiedDate ? file.lastModifiedDate.toLocaleDateString() :\n",
              "                                    'n/a'} - `));\n",
              "    const percent = span('0% done');\n",
              "    li.appendChild(percent);\n",
              "\n",
              "    outputElement.appendChild(li);\n",
              "\n",
              "    const fileDataPromise = new Promise((resolve) => {\n",
              "      const reader = new FileReader();\n",
              "      reader.onload = (e) => {\n",
              "        resolve(e.target.result);\n",
              "      };\n",
              "      reader.readAsArrayBuffer(file);\n",
              "    });\n",
              "    // Wait for the data to be ready.\n",
              "    let fileData = yield {\n",
              "      promise: fileDataPromise,\n",
              "      response: {\n",
              "        action: 'continue',\n",
              "      }\n",
              "    };\n",
              "\n",
              "    // Use a chunked sending to avoid message size limits. See b/62115660.\n",
              "    let position = 0;\n",
              "    do {\n",
              "      const length = Math.min(fileData.byteLength - position, MAX_PAYLOAD_SIZE);\n",
              "      const chunk = new Uint8Array(fileData, position, length);\n",
              "      position += length;\n",
              "\n",
              "      const base64 = btoa(String.fromCharCode.apply(null, chunk));\n",
              "      yield {\n",
              "        response: {\n",
              "          action: 'append',\n",
              "          file: file.name,\n",
              "          data: base64,\n",
              "        },\n",
              "      };\n",
              "\n",
              "      let percentDone = fileData.byteLength === 0 ?\n",
              "          100 :\n",
              "          Math.round((position / fileData.byteLength) * 100);\n",
              "      percent.textContent = `${percentDone}% done`;\n",
              "\n",
              "    } while (position < fileData.byteLength);\n",
              "  }\n",
              "\n",
              "  // All done.\n",
              "  yield {\n",
              "    response: {\n",
              "      action: 'complete',\n",
              "    }\n",
              "  };\n",
              "}\n",
              "\n",
              "scope.google = scope.google || {};\n",
              "scope.google.colab = scope.google.colab || {};\n",
              "scope.google.colab._files = {\n",
              "  _uploadFiles,\n",
              "  _uploadFilesContinue,\n",
              "};\n",
              "})(self);\n",
              "</script> "
            ]
          },
          "metadata": {}
        },
        {
          "output_type": "stream",
          "name": "stdout",
          "text": [
            "Saving Individual_t104.dta to Individual_t104 (1).dta\n"
          ]
        }
      ]
    },
    {
      "cell_type": "code",
      "source": [
        "from google.colab import files\n",
        "uploaded = files.upload()"
      ],
      "metadata": {
        "colab": {
          "base_uri": "https://localhost:8080/",
          "height": 73
        },
        "id": "5eJRUYoa-BxS",
        "outputId": "2d1b6575-2a0e-49e4-cab5-724c6e846408"
      },
      "execution_count": 52,
      "outputs": [
        {
          "output_type": "display_data",
          "data": {
            "text/plain": [
              "<IPython.core.display.HTML object>"
            ],
            "text/html": [
              "\n",
              "     <input type=\"file\" id=\"files-9566a019-fb38-4514-9a88-f00bf4ce4bdd\" name=\"files[]\" multiple disabled\n",
              "        style=\"border:none\" />\n",
              "     <output id=\"result-9566a019-fb38-4514-9a88-f00bf4ce4bdd\">\n",
              "      Upload widget is only available when the cell has been executed in the\n",
              "      current browser session. Please rerun this cell to enable.\n",
              "      </output>\n",
              "      <script>// Copyright 2017 Google LLC\n",
              "//\n",
              "// Licensed under the Apache License, Version 2.0 (the \"License\");\n",
              "// you may not use this file except in compliance with the License.\n",
              "// You may obtain a copy of the License at\n",
              "//\n",
              "//      http://www.apache.org/licenses/LICENSE-2.0\n",
              "//\n",
              "// Unless required by applicable law or agreed to in writing, software\n",
              "// distributed under the License is distributed on an \"AS IS\" BASIS,\n",
              "// WITHOUT WARRANTIES OR CONDITIONS OF ANY KIND, either express or implied.\n",
              "// See the License for the specific language governing permissions and\n",
              "// limitations under the License.\n",
              "\n",
              "/**\n",
              " * @fileoverview Helpers for google.colab Python module.\n",
              " */\n",
              "(function(scope) {\n",
              "function span(text, styleAttributes = {}) {\n",
              "  const element = document.createElement('span');\n",
              "  element.textContent = text;\n",
              "  for (const key of Object.keys(styleAttributes)) {\n",
              "    element.style[key] = styleAttributes[key];\n",
              "  }\n",
              "  return element;\n",
              "}\n",
              "\n",
              "// Max number of bytes which will be uploaded at a time.\n",
              "const MAX_PAYLOAD_SIZE = 100 * 1024;\n",
              "\n",
              "function _uploadFiles(inputId, outputId) {\n",
              "  const steps = uploadFilesStep(inputId, outputId);\n",
              "  const outputElement = document.getElementById(outputId);\n",
              "  // Cache steps on the outputElement to make it available for the next call\n",
              "  // to uploadFilesContinue from Python.\n",
              "  outputElement.steps = steps;\n",
              "\n",
              "  return _uploadFilesContinue(outputId);\n",
              "}\n",
              "\n",
              "// This is roughly an async generator (not supported in the browser yet),\n",
              "// where there are multiple asynchronous steps and the Python side is going\n",
              "// to poll for completion of each step.\n",
              "// This uses a Promise to block the python side on completion of each step,\n",
              "// then passes the result of the previous step as the input to the next step.\n",
              "function _uploadFilesContinue(outputId) {\n",
              "  const outputElement = document.getElementById(outputId);\n",
              "  const steps = outputElement.steps;\n",
              "\n",
              "  const next = steps.next(outputElement.lastPromiseValue);\n",
              "  return Promise.resolve(next.value.promise).then((value) => {\n",
              "    // Cache the last promise value to make it available to the next\n",
              "    // step of the generator.\n",
              "    outputElement.lastPromiseValue = value;\n",
              "    return next.value.response;\n",
              "  });\n",
              "}\n",
              "\n",
              "/**\n",
              " * Generator function which is called between each async step of the upload\n",
              " * process.\n",
              " * @param {string} inputId Element ID of the input file picker element.\n",
              " * @param {string} outputId Element ID of the output display.\n",
              " * @return {!Iterable<!Object>} Iterable of next steps.\n",
              " */\n",
              "function* uploadFilesStep(inputId, outputId) {\n",
              "  const inputElement = document.getElementById(inputId);\n",
              "  inputElement.disabled = false;\n",
              "\n",
              "  const outputElement = document.getElementById(outputId);\n",
              "  outputElement.innerHTML = '';\n",
              "\n",
              "  const pickedPromise = new Promise((resolve) => {\n",
              "    inputElement.addEventListener('change', (e) => {\n",
              "      resolve(e.target.files);\n",
              "    });\n",
              "  });\n",
              "\n",
              "  const cancel = document.createElement('button');\n",
              "  inputElement.parentElement.appendChild(cancel);\n",
              "  cancel.textContent = 'Cancel upload';\n",
              "  const cancelPromise = new Promise((resolve) => {\n",
              "    cancel.onclick = () => {\n",
              "      resolve(null);\n",
              "    };\n",
              "  });\n",
              "\n",
              "  // Wait for the user to pick the files.\n",
              "  const files = yield {\n",
              "    promise: Promise.race([pickedPromise, cancelPromise]),\n",
              "    response: {\n",
              "      action: 'starting',\n",
              "    }\n",
              "  };\n",
              "\n",
              "  cancel.remove();\n",
              "\n",
              "  // Disable the input element since further picks are not allowed.\n",
              "  inputElement.disabled = true;\n",
              "\n",
              "  if (!files) {\n",
              "    return {\n",
              "      response: {\n",
              "        action: 'complete',\n",
              "      }\n",
              "    };\n",
              "  }\n",
              "\n",
              "  for (const file of files) {\n",
              "    const li = document.createElement('li');\n",
              "    li.append(span(file.name, {fontWeight: 'bold'}));\n",
              "    li.append(span(\n",
              "        `(${file.type || 'n/a'}) - ${file.size} bytes, ` +\n",
              "        `last modified: ${\n",
              "            file.lastModifiedDate ? file.lastModifiedDate.toLocaleDateString() :\n",
              "                                    'n/a'} - `));\n",
              "    const percent = span('0% done');\n",
              "    li.appendChild(percent);\n",
              "\n",
              "    outputElement.appendChild(li);\n",
              "\n",
              "    const fileDataPromise = new Promise((resolve) => {\n",
              "      const reader = new FileReader();\n",
              "      reader.onload = (e) => {\n",
              "        resolve(e.target.result);\n",
              "      };\n",
              "      reader.readAsArrayBuffer(file);\n",
              "    });\n",
              "    // Wait for the data to be ready.\n",
              "    let fileData = yield {\n",
              "      promise: fileDataPromise,\n",
              "      response: {\n",
              "        action: 'continue',\n",
              "      }\n",
              "    };\n",
              "\n",
              "    // Use a chunked sending to avoid message size limits. See b/62115660.\n",
              "    let position = 0;\n",
              "    do {\n",
              "      const length = Math.min(fileData.byteLength - position, MAX_PAYLOAD_SIZE);\n",
              "      const chunk = new Uint8Array(fileData, position, length);\n",
              "      position += length;\n",
              "\n",
              "      const base64 = btoa(String.fromCharCode.apply(null, chunk));\n",
              "      yield {\n",
              "        response: {\n",
              "          action: 'append',\n",
              "          file: file.name,\n",
              "          data: base64,\n",
              "        },\n",
              "      };\n",
              "\n",
              "      let percentDone = fileData.byteLength === 0 ?\n",
              "          100 :\n",
              "          Math.round((position / fileData.byteLength) * 100);\n",
              "      percent.textContent = `${percentDone}% done`;\n",
              "\n",
              "    } while (position < fileData.byteLength);\n",
              "  }\n",
              "\n",
              "  // All done.\n",
              "  yield {\n",
              "    response: {\n",
              "      action: 'complete',\n",
              "    }\n",
              "  };\n",
              "}\n",
              "\n",
              "scope.google = scope.google || {};\n",
              "scope.google.colab = scope.google.colab || {};\n",
              "scope.google.colab._files = {\n",
              "  _uploadFiles,\n",
              "  _uploadFilesContinue,\n",
              "};\n",
              "})(self);\n",
              "</script> "
            ]
          },
          "metadata": {}
        },
        {
          "output_type": "stream",
          "name": "stdout",
          "text": [
            "Saving usu_individual_T124.xlsx to usu_individual_T124 (3).xlsx\n"
          ]
        }
      ]
    },
    {
      "cell_type": "code",
      "source": [
        "import pandas as pd\n",
        "df_2004 = pd.read_stata(\"Individual_t104 (1).dta\")\n",
        "df_2024 = pd.read_excel(\"usu_individual_T124 (3).xlsx\")\n",
        "print(df_2004.head())\n",
        "print(df_2024.head())"
      ],
      "metadata": {
        "id": "qnrfgyDFvMZ7"
      },
      "execution_count": null,
      "outputs": []
    },
    {
      "cell_type": "code",
      "source": [
        "#punto 2a\n",
        "df_2004_gba = df_2004[df_2004[\"region\"] == \"Gran Buenos Aires\"]\n",
        "df_2024_gba = df_2024[df_2024[\"REGION\"] == \"Gran Buenos Aires\"]\n",
        "\n",
        "df_a = pd.read_stata(\"Individual_t104 (1).dta\")\n",
        "print(df_a.shape)\n",
        "df_b = pd.read_excel(\"usu_individual_T124 (3).xlsx\")\n",
        "print(df_b.shape)\n",
        "df_a_gba = df_a[df_a[\"region\"] == \"Gran Buenos Aires\"]\n",
        "df_b_gba = df_b[df_b[\"REGION\"] == \"Gran Buenos Aires\"]\n",
        "df = pd.concat([df_a_gba, df_b_gba])\n",
        "print(df.shape)\n"
      ],
      "metadata": {
        "id": "8iIWk6Uj5-CT"
      },
      "execution_count": null,
      "outputs": []
    },
    {
      "cell_type": "code",
      "source": [
        "#punto 2b\n",
        "variables_2004=['CODUSU', 'nro_hogar', 'componente', 'h15', 'ano4', 'deccfr',\n",
        " 'ideccfr', 'rdeccfr', 'gdeccfr', 'pdeccfr', 'adeccfr', 'pj1_1', 'pj2_1', 'pj3_1', 'idimpp']\n",
        "variables_2024= ['GDECCFR' , 'PDECCFR','CODUSU', 'ANO4', 'TRIMESTRE', 'NRO_HOGAR', 'COMPONENTE',\n",
        "                 'H15', 'REGION', 'MAS_500', 'AGLOMERADO', 'PONDERA', 'CH03', 'CH04', 'CH05']\n",
        "faltantes_2004=df_a[variables_2004].isna().sum()\n",
        "faltantes_2024=df_b[variables_2024].isna().sum()\n",
        "\n",
        "print(\"valores faltantes - año 2004\")\n",
        "print(faltantes_2004)\n",
        "print(\"valores faltantes - año 2024\")\n",
        "print(faltantes_2024)\n"
      ],
      "metadata": {
        "id": "InG5e2XV6FUi"
      },
      "execution_count": null,
      "outputs": []
    },
    {
      "cell_type": "code",
      "source": [
        "#punto 2c\n",
        "valores_invalidos = [9, 99, 999, 99999, -7, -8, -9, 0]\n",
        "import numpy as np\n",
        "for var in variables_2024:\n",
        "    df[var] = df[var].replace(valores_invalidos, np.nan)\n",
        "faltantes_limpios = df[variables_2024].isna().sum()\n",
        "print(\"Valores faltantes después de limpieza(2024):\")\n",
        "print(faltantes_limpios)\n",
        "for var in variables_2004:\n",
        "    df[var] = df[var].replace(valores_invalidos, np.nan)\n",
        "faltantes_limpios = df[variables_2004].isna().sum()\n",
        "print(\"Valores faltantes después de limpieza(2004):\")\n",
        "print(faltantes_limpios)"
      ],
      "metadata": {
        "id": "WwBDzuZz6NNe"
      },
      "execution_count": null,
      "outputs": []
    },
    {
      "cell_type": "code",
      "source": [
        "#punto 3\n",
        "import pandas as pd\n",
        "import matplotlib.pyplot as plt\n",
        "import seaborn as sns\n",
        "df_2004 = df_a.copy()\n",
        "df_2024 = df_b.copy()\n",
        "df_2004['Sexo'] = df_2004['ch04'].replace({1: 'Varón', 2: 'Mujer'})\n",
        "df_2024['Sexo'] = df_2024['CH04'].replace({1: 'Varón', 2: 'Mujer'})\n",
        "df_2004['Año'] = 2004\n",
        "df_2024['Año'] = 2024\n",
        "df_union = pd.concat([df_2004[['Sexo', 'Año']], df_2024[['Sexo', 'Año']]])\n",
        "sns.set(style=\"whitegrid\")\n",
        "sns.histplot(data=df_union, x='Sexo', hue='Año', multiple='dodge', shrink=0.8, discrete=True)\n",
        "plt.title(\"Composición por Sexo  (2004 vs 2024)\")\n",
        "plt.xlabel(\"Sexo\")\n",
        "plt.ylabel(\"Cantidad de personas\")\n",
        "plt.show()"
      ],
      "metadata": {
        "id": "mxn2cQNh6WN2"
      },
      "execution_count": null,
      "outputs": []
    },
    {
      "cell_type": "code",
      "source": [
        "#punto4"
      ],
      "metadata": {
        "id": "fgW6hWQNjBDN"
      },
      "execution_count": 28,
      "outputs": []
    },
    {
      "cell_type": "code",
      "source": [
        "#Matriz de correlación para 2004 y 2024\n",
        "\n",
        "import pandas as pd\n",
        "import seaborn as sns\n",
        "import matplotlib.pyplot as plt"
      ],
      "metadata": {
        "id": "rMCFUxX4lxWI"
      },
      "execution_count": 100,
      "outputs": []
    },
    {
      "cell_type": "code",
      "source": [
        "# Estándarizo nombres de columnas a mayúsculas\n",
        "df_2004.columns = df_2004.columns.str.upper()\n",
        "df_2024.columns = df_2024.columns.str.upper()"
      ],
      "metadata": {
        "id": "I-cK_8idlxGi"
      },
      "execution_count": 85,
      "outputs": []
    },
    {
      "cell_type": "code",
      "source": [
        "# Uniformizar nombres de columnas (es fundamental que no tenga errores)\n",
        "df_2004.columns = df_2004.columns.str.upper()\n",
        "df_2024.columns = df_2024.columns.str.upper()\n",
        "\n",
        "# Variables pedidas/consignas del TP\n",
        "variables_corr = ['CH04', 'CH06', 'CH07', 'CH08', 'NIVEL_ED', 'ESTADO', 'CAT_INAC', 'IPCF']\n",
        "\n",
        "# Verificamos que existan esas variables en cada dataset\n",
        "vars_2004 = [var for var in variables_corr if var in df_2004.columns]\n",
        "vars_2024 = [var for var in variables_corr if var in df_2024.columns]\n",
        "\n",
        "# Seleccionamos las variables correspondientes\n",
        "df_corr_2004 = df_2004[vars_2004]\n",
        "df_corr_2024 = df_2024[vars_2024]\n",
        "\n",
        "# Aseguramos que todas las columnas sean numéricas\n",
        "df_corr_2004 = df_corr_2004.apply(pd.to_numeric, errors='coerce')\n",
        "df_corr_2024 = df_corr_2024.apply(pd.to_numeric, errors='coerce')\n",
        "\n",
        "# Calculamos las matrices de correlación\n",
        "corr_matrix_2004 = df_corr_2004.corr()\n",
        "corr_matrix_2024 = df_corr_2024.corr()\n",
        "\n",
        "#GRAFICO MATRIZ DE CORRELACION 2004\n",
        "\n",
        "plt.figure(figsize=(10,8))\n",
        "sns.heatmap(\n",
        "    corr_matrix_2004,\n",
        "    annot=True,\n",
        "    cmap='coolwarm',\n",
        "    linewidths=0.5,\n",
        "    linecolor='black',\n",
        "    vmin=-1, vmax=1\n",
        ")\n",
        "plt.title('Matriz de Correlación - Año 2004', fontsize=16)\n",
        "plt.xticks(rotation=45)\n",
        "plt.yticks(rotation=45)\n",
        "plt.tight_layout()\n",
        "plt.show()\n",
        "\n",
        "# --- GRAFICO MATRIZ DE CORRELACION 2024 ---\n",
        "\n",
        "plt.figure(figsize=(10,8))\n",
        "sns.heatmap(\n",
        "    corr_matrix_2024,\n",
        "    annot=True,\n",
        "    cmap='coolwarm',\n",
        "    linewidths=0.5,\n",
        "    linecolor='black',\n",
        "    vmin=-1, vmax=1\n",
        ")\n",
        "plt.title('Matriz de Correlación - Año 2024', fontsize=16)\n",
        "plt.xticks(rotation=45)\n",
        "plt.yticks(rotation=45)\n",
        "plt.tight_layout()\n",
        "plt.show()"
      ],
      "metadata": {
        "id": "zDOkAMpilw5i"
      },
      "execution_count": null,
      "outputs": []
    },
    {
      "cell_type": "code",
      "source": [
        "#Punto5"
      ],
      "metadata": {
        "id": "ogajKjbej_F3"
      },
      "execution_count": 22,
      "outputs": []
    },
    {
      "cell_type": "code",
      "source": [
        "#Desocupados e inactivos\n",
        "# Asegurarnos que los nombres de columnas estén en mayúsculas\n",
        "df_2004.columns = df_2004.columns.str.upper()\n",
        "df_2024.columns = df_2024.columns.str.upper()"
      ],
      "metadata": {
        "id": "ayP0tcsWl0dr"
      },
      "execution_count": 103,
      "outputs": []
    },
    {
      "cell_type": "code",
      "source": [
        "#Año 2004\n",
        "\n",
        "# Cantidad de desocupados e inactivos\n",
        "cantidad_desocupados_2004 = df_2004[df_2004['ESTADO'] == 2].shape[0]\n",
        "cantidad_inactivos_2004 = df_2004[df_2004['ESTADO'] == 3].shape[0]\n",
        "\n",
        "print(f\"Año 2004:\")\n",
        "print(f\"Cantidad de desocupados: {cantidad_desocupados_2004}\")\n",
        "print(f\"Cantidad de inactivos: {cantidad_inactivos_2004}\")\n",
        "\n",
        "# Media de ingreso per cápita familiar por estado\n",
        "media_ingreso_2004 = df_2004.groupby('ESTADO')['IPCF'].mean()\n",
        "print(\"\\nMedia de IPCF por estado (2004):\")\n",
        "print(media_ingreso_2004)"
      ],
      "metadata": {
        "id": "WGFPyyLSl0FN"
      },
      "execution_count": null,
      "outputs": []
    },
    {
      "cell_type": "code",
      "source": [
        "#Año 2024\n",
        "\n",
        "# Cantidad de desocupados e inactivos\n",
        "cantidad_desocupados_2024 = df_2024[df_2024['ESTADO'] == 2].shape[0]\n",
        "cantidad_inactivos_2024 = df_2024[df_2024['ESTADO'] == 3].shape[0]\n",
        "\n",
        "print(f\"\\nAño 2024:\")\n",
        "print(f\"Cantidad de desocupados: {cantidad_desocupados_2024}\")\n",
        "print(f\"Cantidad de inactivos: {cantidad_inactivos_2024}\")\n",
        "\n",
        "# Media de ingreso per cápita familiar por estado\n",
        "media_ingreso_2024 = df_2024.groupby('ESTADO')['IPCF'].mean()\n",
        "print(\"\\nMedia de IPCF por estado (2024):\")\n",
        "print(media_ingreso_2024)"
      ],
      "metadata": {
        "id": "s-iku3lolz5f"
      },
      "execution_count": null,
      "outputs": []
    },
    {
      "cell_type": "code",
      "source": [
        "#Punto6"
      ],
      "metadata": {
        "id": "xxl48Tv7kNwO"
      },
      "execution_count": null,
      "outputs": []
    },
    {
      "cell_type": "code",
      "source": [
        "# Aseguramos columnas en mayúsculas\n",
        "df_2004.columns = df_2004.columns.str.upper()\n",
        "df_2024.columns = df_2024.columns.str.upper()"
      ],
      "metadata": {
        "id": "plOu_kH6Kb6S"
      },
      "execution_count": 106,
      "outputs": []
    },
    {
      "cell_type": "code",
      "source": [
        "# Año 2004\n",
        "\n",
        "#Quien respndío.\n",
        "respondieron_2004 = df_2004[df_2004['ESTADO'] != 0]\n",
        "norespondieron_2004 = df_2004[df_2004['ESTADO'] == 0]\n",
        "\n",
        "# Cantidad/Cuantos\n",
        "print(f\"Año 2004:\")\n",
        "print(f\"Cantidad de personas que NO respondieron condición de actividad: {norespondieron_2004.shape[0]}\")\n",
        "print(f\"Cantidad de personas que respondieron: {respondieron_2004.shape[0]}\")"
      ],
      "metadata": {
        "id": "BYi9uVBdKeeZ"
      },
      "execution_count": null,
      "outputs": []
    },
    {
      "cell_type": "code",
      "source": [
        "#2024\n",
        "#Respondieron\n",
        "respondieron_2024 = df_2024[df_2024['ESTADO'] != 0]\n",
        "norespondieron_2024 = df_2024[df_2024['ESTADO'] == 0]\n",
        "\n",
        "# Cantidad\n",
        "print(f\"\\nAño 2024:\")\n",
        "print(f\"Cantidad de personas que NO respondieron condición de actividad: {norespondieron_2024.shape[0]}\")\n",
        "print(f\"Cantidad de personas que respondieron: {respondieron_2024.shape[0]}\")"
      ],
      "metadata": {
        "collapsed": true,
        "id": "5XWrohdHKtMP"
      },
      "execution_count": null,
      "outputs": []
    }
  ]
}